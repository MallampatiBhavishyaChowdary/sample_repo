{
 "cells": [
  {
   "cell_type": "markdown",
   "id": "5a80d738",
   "metadata": {},
   "source": [
    "# My First Program"
   ]
  },
  {
   "cell_type": "code",
   "execution_count": 1,
   "id": "11bcea34",
   "metadata": {},
   "outputs": [
    {
     "name": "stdout",
     "output_type": "stream",
     "text": [
      "Hello World\n"
     ]
    }
   ],
   "source": [
    "print(\"Hello World\")"
   ]
  },
  {
   "cell_type": "code",
   "execution_count": 2,
   "id": "92c711d7",
   "metadata": {},
   "outputs": [
    {
     "name": "stdout",
     "output_type": "stream",
     "text": [
      "Mallampati Bhavishya\n"
     ]
    }
   ],
   "source": [
    "print(\"Mallampati Bhavishya\")"
   ]
  },
  {
   "cell_type": "code",
   "execution_count": 3,
   "id": "194355f0",
   "metadata": {},
   "outputs": [
    {
     "ename": "NameError",
     "evalue": "name 'Print' is not defined",
     "output_type": "error",
     "traceback": [
      "\u001b[1;31m---------------------------------------------------------------------------\u001b[0m",
      "\u001b[1;31mNameError\u001b[0m                                 Traceback (most recent call last)",
      "\u001b[1;32m~\\AppData\\Local\\Temp\\ipykernel_20400\\320528285.py\u001b[0m in \u001b[0;36m<module>\u001b[1;34m\u001b[0m\n\u001b[1;32m----> 1\u001b[1;33m \u001b[0mPrint\u001b[0m\u001b[1;33m(\u001b[0m\u001b[1;34m\"Hello World\"\u001b[0m\u001b[1;33m)\u001b[0m\u001b[1;33m\u001b[0m\u001b[1;33m\u001b[0m\u001b[0m\n\u001b[0m",
      "\u001b[1;31mNameError\u001b[0m: name 'Print' is not defined"
     ]
    }
   ],
   "source": [
    "Print(\"Hello World\")"
   ]
  },
  {
   "cell_type": "markdown",
   "id": "1a18e35b",
   "metadata": {},
   "source": [
    "### Why error? python is case-sensitive."
   ]
  },
  {
   "cell_type": "code",
   "execution_count": 5,
   "id": "a2a72473",
   "metadata": {},
   "outputs": [
    {
     "name": "stdout",
     "output_type": "stream",
     "text": [
      "1\n"
     ]
    }
   ],
   "source": [
    "print(1)"
   ]
  },
  {
   "cell_type": "markdown",
   "id": "c83fe60e",
   "metadata": {},
   "source": [
    "#### Variables"
   ]
  },
  {
   "cell_type": "code",
   "execution_count": 6,
   "id": "0f9af068",
   "metadata": {},
   "outputs": [],
   "source": [
    "name=\"Bhavishya\"\n",
    "Age=20\n",
    "Income=1000000"
   ]
  },
  {
   "cell_type": "code",
   "execution_count": 7,
   "id": "e607f144",
   "metadata": {},
   "outputs": [
    {
     "name": "stdout",
     "output_type": "stream",
     "text": [
      "Bhavishya 20 1000000\n"
     ]
    }
   ],
   "source": [
    "print(name,Age,Income)"
   ]
  },
  {
   "cell_type": "code",
   "execution_count": 8,
   "id": "fce3cc80",
   "metadata": {},
   "outputs": [
    {
     "name": "stdout",
     "output_type": "stream",
     "text": [
      "Bhavishya\n",
      "20\n",
      "1000000\n"
     ]
    }
   ],
   "source": [
    "print(name)\n",
    "print(Age)\n",
    "print(Income)"
   ]
  },
  {
   "cell_type": "code",
   "execution_count": 9,
   "id": "adb8e409",
   "metadata": {},
   "outputs": [
    {
     "data": {
      "text/plain": [
       "('Bhavishya', 'Chowdary')"
      ]
     },
     "execution_count": 9,
     "metadata": {},
     "output_type": "execute_result"
    }
   ],
   "source": [
    "namelist=\"Bhavishya\",\"Chowdary\"\n",
    "namelist"
   ]
  },
  {
   "cell_type": "code",
   "execution_count": 10,
   "id": "427befa3",
   "metadata": {},
   "outputs": [
    {
     "ename": "SyntaxError",
     "evalue": "invalid syntax (494749753.py, line 1)",
     "output_type": "error",
     "traceback": [
      "\u001b[1;36m  File \u001b[1;32m\"C:\\Users\\Mallampati Bhavishya\\AppData\\Local\\Temp\\ipykernel_20400\\494749753.py\"\u001b[1;36m, line \u001b[1;32m1\u001b[0m\n\u001b[1;33m    name list=\"Bhavishya\",\"Chowdary\"\u001b[0m\n\u001b[1;37m         ^\u001b[0m\n\u001b[1;31mSyntaxError\u001b[0m\u001b[1;31m:\u001b[0m invalid syntax\n"
     ]
    }
   ],
   "source": [
    "name list=\"Bhavishya\",\"Chowdary\"\n",
    "name list"
   ]
  },
  {
   "cell_type": "markdown",
   "id": "a741ef2d",
   "metadata": {},
   "source": [
    "### Space is not allowed"
   ]
  },
  {
   "cell_type": "code",
   "execution_count": 11,
   "id": "1941dce9",
   "metadata": {},
   "outputs": [
    {
     "ename": "SyntaxError",
     "evalue": "invalid syntax (1960676814.py, line 1)",
     "output_type": "error",
     "traceback": [
      "\u001b[1;36m  File \u001b[1;32m\"C:\\Users\\Mallampati Bhavishya\\AppData\\Local\\Temp\\ipykernel_20400\\1960676814.py\"\u001b[1;36m, line \u001b[1;32m1\u001b[0m\n\u001b[1;33m    2namelist=\"Bhavishya\",\"Chowdary\"\u001b[0m\n\u001b[1;37m     ^\u001b[0m\n\u001b[1;31mSyntaxError\u001b[0m\u001b[1;31m:\u001b[0m invalid syntax\n"
     ]
    }
   ],
   "source": [
    "2namelist=\"Bhavishya\",\"Chowdary\"\n",
    "2namelist"
   ]
  },
  {
   "cell_type": "code",
   "execution_count": 12,
   "id": "dd16c079",
   "metadata": {},
   "outputs": [
    {
     "data": {
      "text/plain": [
       "('Bhavishya', 'Chowdary')"
      ]
     },
     "execution_count": 12,
     "metadata": {},
     "output_type": "execute_result"
    }
   ],
   "source": [
    "n2amelist=\"Bhavishya\",\"Chowdary\"\n",
    "n2amelist"
   ]
  },
  {
   "cell_type": "markdown",
   "id": "0c0afda7",
   "metadata": {},
   "source": [
    "#### variable should not start with number ,but it can have number any where exept at the starting"
   ]
  },
  {
   "cell_type": "code",
   "execution_count": 13,
   "id": "60834cff",
   "metadata": {},
   "outputs": [
    {
     "ename": "SyntaxError",
     "evalue": "cannot assign to operator (4188938250.py, line 1)",
     "output_type": "error",
     "traceback": [
      "\u001b[1;36m  File \u001b[1;32m\"C:\\Users\\Mallampati Bhavishya\\AppData\\Local\\Temp\\ipykernel_20400\\4188938250.py\"\u001b[1;36m, line \u001b[1;32m1\u001b[0m\n\u001b[1;33m    name+list=\"Bhavishya,\"Chowdary\"\u001b[0m\n\u001b[1;37m    ^\u001b[0m\n\u001b[1;31mSyntaxError\u001b[0m\u001b[1;31m:\u001b[0m cannot assign to operator\n"
     ]
    }
   ],
   "source": [
    "name+list=\"Bhavishya,\"Chowdary\"\n",
    "name+list"
   ]
  },
  {
   "cell_type": "code",
   "execution_count": 15,
   "id": "98b915c4",
   "metadata": {},
   "outputs": [
    {
     "data": {
      "text/plain": [
       "('Bhavishya', 'chowdary')"
      ]
     },
     "execution_count": 15,
     "metadata": {},
     "output_type": "execute_result"
    }
   ],
   "source": [
    "name_list=\"Bhavishya\",\"chowdary\"\n",
    "name_list"
   ]
  },
  {
   "cell_type": "markdown",
   "id": "2f2fb63f",
   "metadata": {},
   "source": [
    "#### Only spl character allowed is \"underscore\""
   ]
  },
  {
   "cell_type": "markdown",
   "id": "15c79959",
   "metadata": {},
   "source": [
    "#### Variable name should start with A-z,a-z or underscore"
   ]
  },
  {
   "cell_type": "markdown",
   "id": "5926433a",
   "metadata": {},
   "source": [
    "### Data Types"
   ]
  },
  {
   "cell_type": "code",
   "execution_count": 17,
   "id": "cd5b883c",
   "metadata": {},
   "outputs": [
    {
     "data": {
      "text/plain": [
       "str"
      ]
     },
     "execution_count": 17,
     "metadata": {},
     "output_type": "execute_result"
    }
   ],
   "source": [
    "type(\"ai\")"
   ]
  },
  {
   "cell_type": "code",
   "execution_count": 18,
   "id": "27abd067",
   "metadata": {},
   "outputs": [
    {
     "data": {
      "text/plain": [
       "str"
      ]
     },
     "execution_count": 18,
     "metadata": {},
     "output_type": "execute_result"
    }
   ],
   "source": [
    "name=\"ai\"\n",
    "type(name)"
   ]
  },
  {
   "cell_type": "code",
   "execution_count": 19,
   "id": "334aef62",
   "metadata": {},
   "outputs": [
    {
     "data": {
      "text/plain": [
       "int"
      ]
     },
     "execution_count": 19,
     "metadata": {},
     "output_type": "execute_result"
    }
   ],
   "source": [
    "x=10\n",
    "type(x)"
   ]
  },
  {
   "cell_type": "code",
   "execution_count": 20,
   "id": "bfba02a2",
   "metadata": {},
   "outputs": [
    {
     "data": {
      "text/plain": [
       "float"
      ]
     },
     "execution_count": 20,
     "metadata": {},
     "output_type": "execute_result"
    }
   ],
   "source": [
    "x=10.7\n",
    "type(x)"
   ]
  },
  {
   "cell_type": "code",
   "execution_count": 21,
   "id": "5031afb6",
   "metadata": {},
   "outputs": [
    {
     "data": {
      "text/plain": [
       "bool"
      ]
     },
     "execution_count": 21,
     "metadata": {},
     "output_type": "execute_result"
    }
   ],
   "source": [
    "x=True\n",
    "type(x)"
   ]
  },
  {
   "cell_type": "code",
   "execution_count": 22,
   "id": "4247b0d9",
   "metadata": {},
   "outputs": [
    {
     "data": {
      "text/plain": [
       "bool"
      ]
     },
     "execution_count": 22,
     "metadata": {},
     "output_type": "execute_result"
    }
   ],
   "source": [
    "y=False\n",
    "type(y)"
   ]
  },
  {
   "cell_type": "code",
   "execution_count": 23,
   "id": "40397d2c",
   "metadata": {},
   "outputs": [
    {
     "ename": "NameError",
     "evalue": "name 'true' is not defined",
     "output_type": "error",
     "traceback": [
      "\u001b[1;31m---------------------------------------------------------------------------\u001b[0m",
      "\u001b[1;31mNameError\u001b[0m                                 Traceback (most recent call last)",
      "\u001b[1;32m~\\AppData\\Local\\Temp\\ipykernel_20400\\455558514.py\u001b[0m in \u001b[0;36m<module>\u001b[1;34m\u001b[0m\n\u001b[1;32m----> 1\u001b[1;33m \u001b[0my\u001b[0m\u001b[1;33m=\u001b[0m\u001b[0mtrue\u001b[0m\u001b[1;33m\u001b[0m\u001b[1;33m\u001b[0m\u001b[0m\n\u001b[0m\u001b[0;32m      2\u001b[0m \u001b[0mtype\u001b[0m\u001b[1;33m(\u001b[0m\u001b[0my\u001b[0m\u001b[1;33m)\u001b[0m\u001b[1;33m\u001b[0m\u001b[1;33m\u001b[0m\u001b[0m\n",
      "\u001b[1;31mNameError\u001b[0m: name 'true' is not defined"
     ]
    }
   ],
   "source": [
    "y=true\n",
    "type(y)"
   ]
  },
  {
   "cell_type": "markdown",
   "id": "4295f50e",
   "metadata": {},
   "source": [
    "#### Python is case-sensitive"
   ]
  },
  {
   "cell_type": "code",
   "execution_count": 24,
   "id": "f6ac0eb4",
   "metadata": {},
   "outputs": [
    {
     "data": {
      "text/plain": [
       "str"
      ]
     },
     "execution_count": 24,
     "metadata": {},
     "output_type": "execute_result"
    }
   ],
   "source": [
    "z=\"True\"\n",
    "type(z)"
   ]
  },
  {
   "cell_type": "code",
   "execution_count": 25,
   "id": "17f403ed",
   "metadata": {},
   "outputs": [],
   "source": [
    "z='True'"
   ]
  },
  {
   "cell_type": "code",
   "execution_count": 26,
   "id": "0f40984f",
   "metadata": {},
   "outputs": [
    {
     "data": {
      "text/plain": [
       "str"
      ]
     },
     "execution_count": 26,
     "metadata": {},
     "output_type": "execute_result"
    }
   ],
   "source": [
    "z='True'\n",
    "type(z)"
   ]
  },
  {
   "cell_type": "markdown",
   "id": "eaa6a544",
   "metadata": {},
   "source": [
    "#### List"
   ]
  },
  {
   "cell_type": "code",
   "execution_count": 37,
   "id": "cce3db9f",
   "metadata": {},
   "outputs": [
    {
     "data": {
      "text/plain": [
       "[1, 2, 3, 7, -1, 'hi', 5.7, 1, 1, 1]"
      ]
     },
     "execution_count": 37,
     "metadata": {},
     "output_type": "execute_result"
    }
   ],
   "source": [
    "sample_list=[1,2,3,7,-1,\"hi\",5.7,1,1,1]\n",
    "sample_list"
   ]
  },
  {
   "cell_type": "code",
   "execution_count": 29,
   "id": "36ef1c91",
   "metadata": {},
   "outputs": [
    {
     "data": {
      "text/plain": [
       "list"
      ]
     },
     "execution_count": 29,
     "metadata": {},
     "output_type": "execute_result"
    }
   ],
   "source": [
    "type(sample_list)"
   ]
  },
  {
   "cell_type": "code",
   "execution_count": 30,
   "id": "9222df42",
   "metadata": {},
   "outputs": [
    {
     "data": {
      "text/plain": [
       "-1"
      ]
     },
     "execution_count": 30,
     "metadata": {},
     "output_type": "execute_result"
    }
   ],
   "source": [
    "sample_list[4]"
   ]
  },
  {
   "cell_type": "code",
   "execution_count": 31,
   "id": "cfd8c1b3",
   "metadata": {},
   "outputs": [
    {
     "data": {
      "text/plain": [
       "1"
      ]
     },
     "execution_count": 31,
     "metadata": {},
     "output_type": "execute_result"
    }
   ],
   "source": [
    "sample_list[10]"
   ]
  },
  {
   "cell_type": "code",
   "execution_count": 32,
   "id": "35e4b446",
   "metadata": {},
   "outputs": [
    {
     "ename": "IndexError",
     "evalue": "list index out of range",
     "output_type": "error",
     "traceback": [
      "\u001b[1;31m---------------------------------------------------------------------------\u001b[0m",
      "\u001b[1;31mIndexError\u001b[0m                                Traceback (most recent call last)",
      "\u001b[1;32m~\\AppData\\Local\\Temp\\ipykernel_20400\\4160662572.py\u001b[0m in \u001b[0;36m<module>\u001b[1;34m\u001b[0m\n\u001b[1;32m----> 1\u001b[1;33m \u001b[0msample_list\u001b[0m\u001b[1;33m[\u001b[0m\u001b[1;36m11\u001b[0m\u001b[1;33m]\u001b[0m\u001b[1;33m\u001b[0m\u001b[1;33m\u001b[0m\u001b[0m\n\u001b[0m",
      "\u001b[1;31mIndexError\u001b[0m: list index out of range"
     ]
    }
   ],
   "source": [
    "sample_list[11]"
   ]
  },
  {
   "cell_type": "code",
   "execution_count": 33,
   "id": "1a30a934",
   "metadata": {},
   "outputs": [
    {
     "data": {
      "text/plain": [
       "'hi'"
      ]
     },
     "execution_count": 33,
     "metadata": {},
     "output_type": "execute_result"
    }
   ],
   "source": [
    "sample_list[-6]"
   ]
  },
  {
   "cell_type": "code",
   "execution_count": 38,
   "id": "6b415599",
   "metadata": {},
   "outputs": [
    {
     "data": {
      "text/plain": [
       "[100, 2, 3, 7, -1, 'hi', 5.7, 1, 1, 1]"
      ]
     },
     "execution_count": 38,
     "metadata": {},
     "output_type": "execute_result"
    }
   ],
   "source": [
    "sample_list[0]=100\n",
    "sample_list"
   ]
  },
  {
   "cell_type": "markdown",
   "id": "45522cc7",
   "metadata": {},
   "source": [
    "### Elements in a list are seperated by a comma and enclosed in a square brackets"
   ]
  },
  {
   "cell_type": "markdown",
   "id": "f0404873",
   "metadata": {},
   "source": [
    "#### List is heterogeneous> Multiple data types"
   ]
  },
  {
   "cell_type": "markdown",
   "id": "db4ef9a6",
   "metadata": {},
   "source": [
    "### list can have duplicates"
   ]
  },
  {
   "cell_type": "markdown",
   "id": "577943de",
   "metadata": {},
   "source": [
    "### List is mutable-> make changes"
   ]
  },
  {
   "cell_type": "markdown",
   "id": "7a05ce97",
   "metadata": {},
   "source": [
    "### Container Object\n",
    "#### Heterogenous-->allows multiple data types\n",
    "#### can have duplicates\n",
    "#### immutable->cannot make changes\n",
    "#### Elements are seperated by comma,enclosed in parenthesis or without any brackets"
   ]
  },
  {
   "cell_type": "code",
   "execution_count": 40,
   "id": "c1c63177",
   "metadata": {},
   "outputs": [
    {
     "data": {
      "text/plain": [
       "(1, 6, 2.3, 8.3, 'hi')"
      ]
     },
     "execution_count": 40,
     "metadata": {},
     "output_type": "execute_result"
    }
   ],
   "source": [
    "sample_tuple=(1,6,2.3,8.3,\"hi\")\n",
    "sample_tuple"
   ]
  },
  {
   "cell_type": "code",
   "execution_count": 41,
   "id": "55e05550",
   "metadata": {},
   "outputs": [
    {
     "data": {
      "text/plain": [
       "tuple"
      ]
     },
     "execution_count": 41,
     "metadata": {},
     "output_type": "execute_result"
    }
   ],
   "source": [
    "type(sample_tuple)"
   ]
  },
  {
   "cell_type": "code",
   "execution_count": 42,
   "id": "56c544d8",
   "metadata": {},
   "outputs": [
    {
     "data": {
      "text/plain": [
       "(1, 6, 2.3, 8.3, 'hi')"
      ]
     },
     "execution_count": 42,
     "metadata": {},
     "output_type": "execute_result"
    }
   ],
   "source": [
    "sample_tuple2=1,6,2.3,8.3,\"hi\"\n",
    "sample_tuple2"
   ]
  },
  {
   "cell_type": "code",
   "execution_count": 43,
   "id": "6e357520",
   "metadata": {},
   "outputs": [
    {
     "data": {
      "text/plain": [
       "tuple"
      ]
     },
     "execution_count": 43,
     "metadata": {},
     "output_type": "execute_result"
    }
   ],
   "source": [
    "type(sample_tuple2)"
   ]
  },
  {
   "cell_type": "markdown",
   "id": "e4391b0c",
   "metadata": {},
   "source": [
    "### sets"
   ]
  },
  {
   "cell_type": "code",
   "execution_count": 2,
   "id": "c61b4d3c",
   "metadata": {},
   "outputs": [
    {
     "data": {
      "text/plain": [
       "{-1, 1, 11.4, 13.4, 2, 21.5, 3, 4, 5, 9.6, 'ds', 'hello', 'hi'}"
      ]
     },
     "execution_count": 2,
     "metadata": {},
     "output_type": "execute_result"
    }
   ],
   "source": [
    "sample_set={1,2,3,4,5,1,13.4,9.6,\"hi\",\"hello\",\"ds\",-1,11.4,21.5}\n",
    "sample_set"
   ]
  },
  {
   "cell_type": "code",
   "execution_count": 3,
   "id": "6a0e4a16",
   "metadata": {},
   "outputs": [
    {
     "ename": "TypeError",
     "evalue": "'set' object is not subscriptable",
     "output_type": "error",
     "traceback": [
      "\u001b[1;31m---------------------------------------------------------------------------\u001b[0m",
      "\u001b[1;31mTypeError\u001b[0m                                 Traceback (most recent call last)",
      "\u001b[1;32m~\\AppData\\Local\\Temp\\ipykernel_26404\\3427908440.py\u001b[0m in \u001b[0;36m<module>\u001b[1;34m\u001b[0m\n\u001b[1;32m----> 1\u001b[1;33m \u001b[0msample_set\u001b[0m\u001b[1;33m[\u001b[0m\u001b[1;36m0\u001b[0m\u001b[1;33m]\u001b[0m\u001b[1;33m\u001b[0m\u001b[1;33m\u001b[0m\u001b[0m\n\u001b[0m",
      "\u001b[1;31mTypeError\u001b[0m: 'set' object is not subscriptable"
     ]
    }
   ],
   "source": [
    "sample_set[0]"
   ]
  },
  {
   "cell_type": "code",
   "execution_count": 4,
   "id": "4e1fe91a",
   "metadata": {},
   "outputs": [
    {
     "ename": "TypeError",
     "evalue": "'set' object does not support item assignment",
     "output_type": "error",
     "traceback": [
      "\u001b[1;31m---------------------------------------------------------------------------\u001b[0m",
      "\u001b[1;31mTypeError\u001b[0m                                 Traceback (most recent call last)",
      "\u001b[1;32m~\\AppData\\Local\\Temp\\ipykernel_26404\\3939722490.py\u001b[0m in \u001b[0;36m<module>\u001b[1;34m\u001b[0m\n\u001b[1;32m----> 1\u001b[1;33m \u001b[0msample_set\u001b[0m\u001b[1;33m[\u001b[0m\u001b[1;36m0\u001b[0m\u001b[1;33m]\u001b[0m\u001b[1;33m=\u001b[0m\u001b[1;36m1\u001b[0m\u001b[1;33m\u001b[0m\u001b[1;33m\u001b[0m\u001b[0m\n\u001b[0m",
      "\u001b[1;31mTypeError\u001b[0m: 'set' object does not support item assignment"
     ]
    }
   ],
   "source": [
    "sample_set[0]=1"
   ]
  },
  {
   "cell_type": "code",
   "execution_count": 5,
   "id": "43e776cf",
   "metadata": {},
   "outputs": [],
   "source": [
    "sample_set.add(100)"
   ]
  },
  {
   "cell_type": "code",
   "execution_count": 6,
   "id": "4818369c",
   "metadata": {},
   "outputs": [
    {
     "data": {
      "text/plain": [
       "{-1, 1, 100, 11.4, 13.4, 2, 21.5, 3, 4, 5, 9.6, 'ds', 'hello', 'hi'}"
      ]
     },
     "execution_count": 6,
     "metadata": {},
     "output_type": "execute_result"
    }
   ],
   "source": [
    "sample_set"
   ]
  },
  {
   "cell_type": "code",
   "execution_count": 7,
   "id": "dfc08243",
   "metadata": {},
   "outputs": [],
   "source": [
    "sample_set.remove(-1)"
   ]
  },
  {
   "cell_type": "code",
   "execution_count": 8,
   "id": "b167ea1d",
   "metadata": {},
   "outputs": [
    {
     "data": {
      "text/plain": [
       "{1, 100, 11.4, 13.4, 2, 21.5, 3, 4, 5, 9.6, 'ds', 'hello', 'hi'}"
      ]
     },
     "execution_count": 8,
     "metadata": {},
     "output_type": "execute_result"
    }
   ],
   "source": [
    "sample_set"
   ]
  },
  {
   "cell_type": "markdown",
   "id": "31936796",
   "metadata": {},
   "source": [
    "##### Set does not allow duplicates\n",
    "#### we cannot retrieve the set using index\n",
    "#### Set is mutable\n",
    "#### Set has {}\n",
    "#### Ordered-First place"
   ]
  },
  {
   "cell_type": "markdown",
   "id": "e2255758",
   "metadata": {},
   "source": [
    "# Dictionary"
   ]
  },
  {
   "cell_type": "markdown",
   "id": "e434c349",
   "metadata": {},
   "source": [
    "### 1)Key-value pair\n",
    "### 2){}\n",
    "### 3)Indexing-Square bracket\n",
    "### 4)Mutable"
   ]
  },
  {
   "cell_type": "code",
   "execution_count": 9,
   "id": "45801af9",
   "metadata": {},
   "outputs": [],
   "source": [
    "dict_1={'name':\"arun\",\"hobbies\":[\"painting\",\"cooking\",\"singing\"],1:23}"
   ]
  },
  {
   "cell_type": "code",
   "execution_count": 10,
   "id": "504ad83e",
   "metadata": {},
   "outputs": [
    {
     "data": {
      "text/plain": [
       "{'name': 'arun', 'hobbies': ['painting', 'cooking', 'singing'], 1: 23}"
      ]
     },
     "execution_count": 10,
     "metadata": {},
     "output_type": "execute_result"
    }
   ],
   "source": [
    "dict_1"
   ]
  },
  {
   "cell_type": "code",
   "execution_count": 11,
   "id": "b908077c",
   "metadata": {},
   "outputs": [
    {
     "ename": "NameError",
     "evalue": "name 'keys' is not defined",
     "output_type": "error",
     "traceback": [
      "\u001b[1;31m---------------------------------------------------------------------------\u001b[0m",
      "\u001b[1;31mNameError\u001b[0m                                 Traceback (most recent call last)",
      "\u001b[1;32m~\\AppData\\Local\\Temp\\ipykernel_26404\\3553490241.py\u001b[0m in \u001b[0;36m<module>\u001b[1;34m\u001b[0m\n\u001b[1;32m----> 1\u001b[1;33m \u001b[0mdict_1\u001b[0m\u001b[1;33m[\u001b[0m\u001b[0mkeys\u001b[0m\u001b[1;33m]\u001b[0m\u001b[1;33m\u001b[0m\u001b[1;33m\u001b[0m\u001b[0m\n\u001b[0m",
      "\u001b[1;31mNameError\u001b[0m: name 'keys' is not defined"
     ]
    }
   ],
   "source": [
    "dict_1[keys]"
   ]
  },
  {
   "cell_type": "code",
   "execution_count": 12,
   "id": "4693a0cb",
   "metadata": {},
   "outputs": [
    {
     "data": {
      "text/plain": [
       "dict_keys(['name', 'hobbies', 1])"
      ]
     },
     "execution_count": 12,
     "metadata": {},
     "output_type": "execute_result"
    }
   ],
   "source": [
    "dict_1.keys()"
   ]
  },
  {
   "cell_type": "code",
   "execution_count": 13,
   "id": "50a4c883",
   "metadata": {},
   "outputs": [
    {
     "data": {
      "text/plain": [
       "dict_values(['arun', ['painting', 'cooking', 'singing'], 23])"
      ]
     },
     "execution_count": 13,
     "metadata": {},
     "output_type": "execute_result"
    }
   ],
   "source": [
    "dict_1.values()"
   ]
  },
  {
   "cell_type": "code",
   "execution_count": 14,
   "id": "9803e90e",
   "metadata": {},
   "outputs": [],
   "source": [
    "dict_1['name']=\"Mukund\""
   ]
  },
  {
   "cell_type": "code",
   "execution_count": 15,
   "id": "c38dae45",
   "metadata": {},
   "outputs": [
    {
     "data": {
      "text/plain": [
       "{'name': 'Mukund', 'hobbies': ['painting', 'cooking', 'singing'], 1: 23}"
      ]
     },
     "execution_count": 15,
     "metadata": {},
     "output_type": "execute_result"
    }
   ],
   "source": [
    "dict_1"
   ]
  },
  {
   "cell_type": "code",
   "execution_count": 16,
   "id": "3b89b0f4",
   "metadata": {},
   "outputs": [],
   "source": [
    "del dict_1[\"name\"]"
   ]
  },
  {
   "cell_type": "code",
   "execution_count": 17,
   "id": "cb6ecd62",
   "metadata": {},
   "outputs": [
    {
     "data": {
      "text/plain": [
       "{'hobbies': ['painting', 'cooking', 'singing'], 1: 23}"
      ]
     },
     "execution_count": 17,
     "metadata": {},
     "output_type": "execute_result"
    }
   ],
   "source": [
    "dict_1"
   ]
  },
  {
   "cell_type": "code",
   "execution_count": 18,
   "id": "de44e390",
   "metadata": {},
   "outputs": [],
   "source": [
    "### Add a new key-value\n",
    "dict_1.update({\"class\":\"ds\"})"
   ]
  },
  {
   "cell_type": "code",
   "execution_count": 19,
   "id": "3ed501b0",
   "metadata": {},
   "outputs": [
    {
     "data": {
      "text/plain": [
       "{'hobbies': ['painting', 'cooking', 'singing'], 1: 23, 'class': 'ds'}"
      ]
     },
     "execution_count": 19,
     "metadata": {},
     "output_type": "execute_result"
    }
   ],
   "source": [
    "dict_1"
   ]
  },
  {
   "cell_type": "code",
   "execution_count": 20,
   "id": "31391787",
   "metadata": {},
   "outputs": [
    {
     "data": {
      "text/plain": [
       "3"
      ]
     },
     "execution_count": 20,
     "metadata": {},
     "output_type": "execute_result"
    }
   ],
   "source": [
    "len(dict_1)"
   ]
  },
  {
   "cell_type": "code",
   "execution_count": null,
   "id": "5097aea0",
   "metadata": {},
   "outputs": [],
   "source": []
  }
 ],
 "metadata": {
  "kernelspec": {
   "display_name": "Python 3 (ipykernel)",
   "language": "python",
   "name": "python3"
  },
  "language_info": {
   "codemirror_mode": {
    "name": "ipython",
    "version": 3
   },
   "file_extension": ".py",
   "mimetype": "text/x-python",
   "name": "python",
   "nbconvert_exporter": "python",
   "pygments_lexer": "ipython3",
   "version": "3.9.13"
  }
 },
 "nbformat": 4,
 "nbformat_minor": 5
}
